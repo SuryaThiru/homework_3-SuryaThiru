{
 "cells": [
  {
   "cell_type": "markdown",
   "id": "3d326d7d",
   "metadata": {},
   "source": [
    "This can be run [run on Google Colab using this link](https://colab.research.google.com/github/CS7150/CS7150-Homework_3/blob/main/HW3.1-Classifiers.ipynb)"
   ]
  },
  {
   "cell_type": "markdown",
   "id": "4dd40e9d",
   "metadata": {},
   "source": [
    "## MNIST Classifiers (Convolutional Neural Networks and Fully Connected Networks)"
   ]
  },
  {
   "cell_type": "markdown",
   "id": "ea20290e",
   "metadata": {},
   "source": [
    "<b>Optional</b>: Installing Wandb to see cool analysis of you code. You can go through the documentation here. We will do it for this assignment to get a taste of the GPU and CPU utilizations. If this is creating problems to your code, please comment out all the wandb lines from the notebook "
   ]
  },
  {
   "cell_type": "code",
   "execution_count": 1,
   "id": "0f63cd31",
   "metadata": {},
   "outputs": [],
   "source": [
    "# Uncomment the below line to install wandb (optinal)\n",
    "# !pip install wandb \n",
    "# Uncomment the below line to install torchinfo (https://github.com/TylerYep/torchinfo) [Mandatory]\n",
    "# !pip install torchinfo"
   ]
  },
  {
   "cell_type": "code",
   "execution_count": 2,
   "id": "8211a22f",
   "metadata": {
    "tags": []
   },
   "outputs": [
    {
     "name": "stderr",
     "output_type": "stream",
     "text": [
      "--2023-10-19 22:02:51--  https://cs7150.baulab.info/2022-Fall/data/mnist-classify.pth\n",
      "Connecting to 10.99.0.130:3128... connected.\n",
      "Proxy request sent, awaiting response... 304 Not Modified\n",
      "File ‘mnist-classify.pth’ not modified on server. Omitting download.\n",
      "\n"
     ]
    }
   ],
   "source": [
    "%%bash\n",
    "\n",
    "wget -N https://cs7150.baulab.info/2022-Fall/data/mnist-classify.pth"
   ]
  },
  {
   "cell_type": "code",
   "execution_count": 3,
   "id": "621c2c89",
   "metadata": {
    "scrolled": true
   },
   "outputs": [],
   "source": [
    "# Importing libraries\n",
    "import matplotlib.pyplot as plt\n",
    "\n",
    "import torch \n",
    "import torchvision\n",
    "from torchvision import transforms\n",
    "from torch.utils.data import DataLoader,random_split,Subset\n",
    "from torch import nn\n",
    "import torch.nn.functional as F\n",
    "import torch.optim as optim\n",
    "from torchinfo import summary\n",
    "import numpy as np\n",
    "import datetime\n",
    "\n",
    "from typing import List\n",
    "from collections import OrderedDict\n",
    "import math"
   ]
  },
  {
   "cell_type": "code",
   "execution_count": 4,
   "id": "180e914b",
   "metadata": {},
   "outputs": [],
   "source": [
    "import os\n",
    "os.environ[\"WANDB_API_KEY\"] = \"76649aed02536ffcaa99378dd2c2cfa5fd558e78\""
   ]
  },
  {
   "cell_type": "code",
   "execution_count": 5,
   "id": "e05fd6b2",
   "metadata": {},
   "outputs": [
    {
     "name": "stderr",
     "output_type": "stream",
     "text": [
      "Failed to detect the name of this notebook, you can set it manually with the WANDB_NOTEBOOK_NAME environment variable to enable code saving.\n",
      "\u001b[34m\u001b[1mwandb\u001b[0m: Currently logged in as: \u001b[33msurya-thiru001\u001b[0m (\u001b[33mdl-hw\u001b[0m). Use \u001b[1m`wandb login --relogin`\u001b[0m to force relogin\n"
     ]
    },
    {
     "data": {
      "text/html": [
       "Tracking run with wandb version 0.15.12"
      ],
      "text/plain": [
       "<IPython.core.display.HTML object>"
      ]
     },
     "metadata": {},
     "output_type": "display_data"
    },
    {
     "data": {
      "text/html": [
       "Run data is saved locally in <code>/home/krishnamurthy.sur/projects/DLHW/hw3/wandb/run-20231019_220303-2eedyixh</code>"
      ],
      "text/plain": [
       "<IPython.core.display.HTML object>"
      ]
     },
     "metadata": {},
     "output_type": "display_data"
    },
    {
     "data": {
      "text/html": [
       "Syncing run <strong><a href='https://wandb.ai/dl-hw/hw3.1-ConvNets/runs/2eedyixh' target=\"_blank\">rosy-snowflake-7</a></strong> to <a href='https://wandb.ai/dl-hw/hw3.1-ConvNets' target=\"_blank\">Weights & Biases</a> (<a href='https://wandb.me/run' target=\"_blank\">docs</a>)<br/>"
      ],
      "text/plain": [
       "<IPython.core.display.HTML object>"
      ]
     },
     "metadata": {},
     "output_type": "display_data"
    },
    {
     "data": {
      "text/html": [
       " View project at <a href='https://wandb.ai/dl-hw/hw3.1-ConvNets' target=\"_blank\">https://wandb.ai/dl-hw/hw3.1-ConvNets</a>"
      ],
      "text/plain": [
       "<IPython.core.display.HTML object>"
      ]
     },
     "metadata": {},
     "output_type": "display_data"
    },
    {
     "data": {
      "text/html": [
       " View run at <a href='https://wandb.ai/dl-hw/hw3.1-ConvNets/runs/2eedyixh' target=\"_blank\">https://wandb.ai/dl-hw/hw3.1-ConvNets/runs/2eedyixh</a>"
      ],
      "text/plain": [
       "<IPython.core.display.HTML object>"
      ]
     },
     "metadata": {},
     "output_type": "display_data"
    },
    {
     "data": {
      "text/html": [
       "<button onClick=\"this.nextSibling.style.display='block';this.style.display='none';\">Display W&B run</button><iframe src='https://wandb.ai/dl-hw/hw3.1-ConvNets/runs/2eedyixh?jupyter=true' style='border:none;width:100%;height:420px;display:none;'></iframe>"
      ],
      "text/plain": [
       "<wandb.sdk.wandb_run.Run at 0x2b5f5bed94f0>"
      ]
     },
     "execution_count": 5,
     "metadata": {},
     "output_type": "execute_result"
    }
   ],
   "source": [
    "# Create an account at https://wandb.ai/site and paste the api key here (optional)\n",
    "import wandb\n",
    "wandb.init(project=\"hw3.1-ConvNets\")"
   ]
  },
  {
   "cell_type": "markdown",
   "id": "53ab5423",
   "metadata": {},
   "source": [
    "### Some helper functions to view network parameters"
   ]
  },
  {
   "cell_type": "code",
   "execution_count": 6,
   "id": "5233e6cb",
   "metadata": {},
   "outputs": [],
   "source": [
    "def view_network_parameters(model):\n",
    "    # Visualise the number of parameters\n",
    "    tensor_list = list(model.state_dict().items())\n",
    "    total_parameters = 0\n",
    "    print('Model Summary\\n')\n",
    "    for layer_tensor_name, tensor in tensor_list:\n",
    "        total_parameters += int(torch.numel(tensor))\n",
    "        print('{}: {} elements'.format(layer_tensor_name, torch.numel(tensor)))\n",
    "    print(f'\\nTotal Trainable Parameters: {total_parameters}!')"
   ]
  },
  {
   "cell_type": "code",
   "execution_count": 7,
   "id": "13a073a7",
   "metadata": {},
   "outputs": [],
   "source": [
    "def view_network_shapes(model, input_shape):\n",
    "    print(summary(model, input_size=input_shape))"
   ]
  },
  {
   "cell_type": "markdown",
   "id": "d140bdae",
   "metadata": {},
   "source": [
    "### Fully Connected Network for Image Classification\n",
    "Let's build a simple fully connected network!"
   ]
  },
  {
   "cell_type": "code",
   "execution_count": 8,
   "id": "ccf368fb",
   "metadata": {},
   "outputs": [],
   "source": [
    "def simple_fc_net():\n",
    "    model = nn.Sequential(\n",
    "        nn.Flatten(),\n",
    "        nn.Linear(1*28*28,8*28*28),\n",
    "        nn.ReLU(),\n",
    "        nn.Linear(8*28*28,16*14*14),\n",
    "        nn.ReLU(),\n",
    "        nn.Linear(16*14*14,32*7*7),\n",
    "        nn.ReLU(),\n",
    "        nn.Linear(32*7*7,288),\n",
    "        nn.ReLU(),\n",
    "        nn.Linear(288,64),\n",
    "        nn.ReLU(),\n",
    "        nn.Linear(64,10),\n",
    "        nn.LogSoftmax())\n",
    "    return model"
   ]
  },
  {
   "cell_type": "code",
   "execution_count": 9,
   "id": "8306548c",
   "metadata": {},
   "outputs": [],
   "source": [
    "fc_net = simple_fc_net()"
   ]
  },
  {
   "cell_type": "code",
   "execution_count": 10,
   "id": "f968a3c1",
   "metadata": {},
   "outputs": [
    {
     "name": "stdout",
     "output_type": "stream",
     "text": [
      "Model Summary\n",
      "\n",
      "1.weight: 4917248 elements\n",
      "1.bias: 6272 elements\n",
      "3.weight: 19668992 elements\n",
      "3.bias: 3136 elements\n",
      "5.weight: 4917248 elements\n",
      "5.bias: 1568 elements\n",
      "7.weight: 451584 elements\n",
      "7.bias: 288 elements\n",
      "9.weight: 18432 elements\n",
      "9.bias: 64 elements\n",
      "11.weight: 640 elements\n",
      "11.bias: 10 elements\n",
      "\n",
      "Total Trainable Parameters: 29985482!\n"
     ]
    }
   ],
   "source": [
    "view_network_parameters(fc_net)"
   ]
  },
  {
   "cell_type": "code",
   "execution_count": 11,
   "id": "83eb4838",
   "metadata": {},
   "outputs": [
    {
     "name": "stdout",
     "output_type": "stream",
     "text": [
      "Model Summary\n",
      "\n",
      "1.weight: 4917248 elements\n",
      "1.bias: 6272 elements\n",
      "3.weight: 19668992 elements\n",
      "3.bias: 3136 elements\n",
      "5.weight: 4917248 elements\n",
      "5.bias: 1568 elements\n",
      "7.weight: 451584 elements\n",
      "7.bias: 288 elements\n",
      "9.weight: 18432 elements\n",
      "9.bias: 64 elements\n",
      "11.weight: 640 elements\n",
      "11.bias: 10 elements\n",
      "\n",
      "Total Trainable Parameters: 29985482!\n"
     ]
    }
   ],
   "source": [
    "view_network_parameters(fc_net)"
   ]
  },
  {
   "cell_type": "code",
   "execution_count": 12,
   "id": "a19d63c2",
   "metadata": {},
   "outputs": [
    {
     "name": "stderr",
     "output_type": "stream",
     "text": [
      "/home/krishnamurthy.sur/.local/lib/python3.9/site-packages/torch/nn/modules/container.py:217: UserWarning: Implicit dimension choice for log_softmax has been deprecated. Change the call to include dim=X as an argument.\n",
      "  input = module(input)\n"
     ]
    },
    {
     "data": {
      "text/plain": [
       "==========================================================================================\n",
       "Layer (type:depth-idx)                   Output Shape              Param #\n",
       "==========================================================================================\n",
       "Sequential                               [1, 10]                   --\n",
       "├─Flatten: 1-1                           [1, 784]                  --\n",
       "├─Linear: 1-2                            [1, 6272]                 4,923,520\n",
       "├─ReLU: 1-3                              [1, 6272]                 --\n",
       "├─Linear: 1-4                            [1, 3136]                 19,672,128\n",
       "├─ReLU: 1-5                              [1, 3136]                 --\n",
       "├─Linear: 1-6                            [1, 1568]                 4,918,816\n",
       "├─ReLU: 1-7                              [1, 1568]                 --\n",
       "├─Linear: 1-8                            [1, 288]                  451,872\n",
       "├─ReLU: 1-9                              [1, 288]                  --\n",
       "├─Linear: 1-10                           [1, 64]                   18,496\n",
       "├─ReLU: 1-11                             [1, 64]                   --\n",
       "├─Linear: 1-12                           [1, 10]                   650\n",
       "├─LogSoftmax: 1-13                       [1, 10]                   --\n",
       "==========================================================================================\n",
       "Total params: 29,985,482\n",
       "Trainable params: 29,985,482\n",
       "Non-trainable params: 0\n",
       "Total mult-adds (M): 29.99\n",
       "==========================================================================================\n",
       "Input size (MB): 0.00\n",
       "Forward/backward pass size (MB): 0.09\n",
       "Params size (MB): 119.94\n",
       "Estimated Total Size (MB): 120.04\n",
       "=========================================================================================="
      ]
     },
     "execution_count": 12,
     "metadata": {},
     "output_type": "execute_result"
    }
   ],
   "source": [
    "from torchinfo import summary\n",
    "summary(fc_net, input_size=(1, 1, 28,28))"
   ]
  },
  {
   "cell_type": "markdown",
   "id": "25cfc411",
   "metadata": {},
   "source": [
    "<b>Exercise</b>: Now try to add different layers and see how the network parameters vary. Does adding layers reduce the parameters? Does the number of hidden neurons in the layers affect the total trainable parameters? \n",
    "\n",
    "<i>Add a few sentences on your observations while using various architectures</i>"
   ]
  },
  {
   "cell_type": "code",
   "execution_count": 13,
   "id": "2c266095",
   "metadata": {},
   "outputs": [
    {
     "data": {
      "text/plain": [
       "==========================================================================================\n",
       "Layer (type:depth-idx)                   Output Shape              Param #\n",
       "==========================================================================================\n",
       "Sequential                               [1, 10]                   --\n",
       "├─Flatten: 1-1                           [1, 784]                  --\n",
       "├─Linear: 1-2                            [1, 6272]                 4,923,520\n",
       "├─ReLU: 1-3                              [1, 6272]                 --\n",
       "├─Linear: 1-4                            [1, 5880]                 36,885,240\n",
       "├─ReLU: 1-5                              [1, 5880]                 --\n",
       "├─Linear: 1-6                            [1, 1568]                 9,221,408\n",
       "├─ReLU: 1-7                              [1, 1568]                 --\n",
       "├─Linear: 1-8                            [1, 288]                  451,872\n",
       "├─ReLU: 1-9                              [1, 288]                  --\n",
       "├─Linear: 1-10                           [1, 64]                   18,496\n",
       "├─ReLU: 1-11                             [1, 64]                   --\n",
       "├─Linear: 1-12                           [1, 10]                   650\n",
       "├─LogSoftmax: 1-13                       [1, 10]                   --\n",
       "==========================================================================================\n",
       "Total params: 51,501,186\n",
       "Trainable params: 51,501,186\n",
       "Non-trainable params: 0\n",
       "Total mult-adds (M): 51.50\n",
       "==========================================================================================\n",
       "Input size (MB): 0.00\n",
       "Forward/backward pass size (MB): 0.11\n",
       "Params size (MB): 206.00\n",
       "Estimated Total Size (MB): 206.12\n",
       "=========================================================================================="
      ]
     },
     "execution_count": 13,
     "metadata": {},
     "output_type": "execute_result"
    }
   ],
   "source": [
    "# add layers\n",
    "\n",
    "model = nn.Sequential(\n",
    "        nn.Flatten(),\n",
    "        nn.Linear(1*28*28,8*28*28),\n",
    "        nn.ReLU(),\n",
    "        nn.Linear(8*28*28,30*14*14),\n",
    "        nn.ReLU(),\n",
    "        nn.Linear(30*14*14,32*7*7),\n",
    "        nn.ReLU(),\n",
    "        nn.Linear(32*7*7,288),\n",
    "        nn.ReLU(),\n",
    "        nn.Linear(288,64),\n",
    "        nn.ReLU(),\n",
    "        nn.Linear(64,10),\n",
    "        nn.LogSoftmax())\n",
    "summary(model, input_size=(1, 1, 28,28))"
   ]
  },
  {
   "cell_type": "code",
   "execution_count": 14,
   "id": "2775c829",
   "metadata": {},
   "outputs": [
    {
     "data": {
      "text/plain": [
       "'\\nAdding more layers increases the parameters. Activation layers, which do not have any additional parameters,\\ndo not add more parameters when added to the network.\\n\\nIncreasing the hidden neurons increases the total number of trainable parameters.\\n'"
      ]
     },
     "execution_count": 14,
     "metadata": {},
     "output_type": "execute_result"
    }
   ],
   "source": [
    "#Please type your answer here ...\n",
    "\"\"\"\n",
    "Adding more layers increases the parameters. Activation layers, which do not have any additional parameters,\n",
    "do not add more parameters when added to the network.\n",
    "\n",
    "Increasing the hidden neurons increases the total number of trainable parameters.\n",
    "\"\"\""
   ]
  },
  {
   "cell_type": "markdown",
   "id": "245bc885",
   "metadata": {},
   "source": [
    "### Convolutional Neural Network for Image Classification\n",
    "Let's build a simple CNN to classify our images. \n",
    "<b> Exercise 3.1.1:</b> In the function below please add the conv/Relu/Maxpool layers to match the shape of FC-Net. Suppose at the some layer the FC-Net has `28*28*16` dimension, we want your conv_net to have `16 X 28 X 28` shape at the same numbered layer. <br>\n",
    "<b>Extra-credit:</b> Try not to use MaxPool2d !"
   ]
  },
  {
   "cell_type": "code",
   "execution_count": 15,
   "id": "65674742",
   "metadata": {},
   "outputs": [],
   "source": [
    "def simple_conv_net():\n",
    "    model = nn.Sequential(\n",
    "        # nn.Conv2d(1,16,kernel_size=3,padding=1),\n",
    "        # nn.ReLU(),\n",
    "        # nn.MaxPool2d(2,2),\n",
    "        \n",
    "        # TO-DO: Add layers below\n",
    "        nn.Conv2d(1,8,kernel_size=3,padding=1),\n",
    "        nn.ReLU(),\n",
    "        nn.Conv2d(8,16,kernel_size=6,padding=2,stride=2),\n",
    "        nn.ReLU(),\n",
    "        nn.Conv2d(16,32,kernel_size=2,padding=0,stride=2),\n",
    "        nn.ReLU(),\n",
    "\n",
    "        # TO-DO, what will your shape be after you flatten? Fill it in place of None\n",
    "        nn.Flatten(),\n",
    "        nn.Linear(1568,64),\n",
    "        # Do not change the code below\n",
    "        nn.ReLU(),\n",
    "        nn.Linear(64,10),\n",
    "        nn.LogSoftmax())\n",
    "    return model"
   ]
  },
  {
   "cell_type": "code",
   "execution_count": 16,
   "id": "6bb06a8d",
   "metadata": {},
   "outputs": [],
   "source": [
    "conv_net = simple_conv_net()"
   ]
  },
  {
   "cell_type": "code",
   "execution_count": 17,
   "id": "c6d6e8f0",
   "metadata": {
    "scrolled": true
   },
   "outputs": [
    {
     "name": "stdout",
     "output_type": "stream",
     "text": [
      "Model Summary\n",
      "\n",
      "0.weight: 72 elements\n",
      "0.bias: 8 elements\n",
      "2.weight: 4608 elements\n",
      "2.bias: 16 elements\n",
      "4.weight: 2048 elements\n",
      "4.bias: 32 elements\n",
      "7.weight: 100352 elements\n",
      "7.bias: 64 elements\n",
      "9.weight: 640 elements\n",
      "9.bias: 10 elements\n",
      "\n",
      "Total Trainable Parameters: 107850!\n"
     ]
    }
   ],
   "source": [
    "view_network_parameters(conv_net)"
   ]
  },
  {
   "cell_type": "code",
   "execution_count": 18,
   "id": "49ed1786",
   "metadata": {},
   "outputs": [
    {
     "name": "stdout",
     "output_type": "stream",
     "text": [
      "==========================================================================================\n",
      "Layer (type:depth-idx)                   Output Shape              Param #\n",
      "==========================================================================================\n",
      "Sequential                               [1, 10]                   --\n",
      "├─Conv2d: 1-1                            [1, 8, 28, 28]            80\n",
      "├─ReLU: 1-2                              [1, 8, 28, 28]            --\n",
      "├─Conv2d: 1-3                            [1, 16, 14, 14]           4,624\n",
      "├─ReLU: 1-4                              [1, 16, 14, 14]           --\n",
      "├─Conv2d: 1-5                            [1, 32, 7, 7]             2,080\n",
      "├─ReLU: 1-6                              [1, 32, 7, 7]             --\n",
      "├─Flatten: 1-7                           [1, 1568]                 --\n",
      "├─Linear: 1-8                            [1, 64]                   100,416\n",
      "├─ReLU: 1-9                              [1, 64]                   --\n",
      "├─Linear: 1-10                           [1, 10]                   650\n",
      "├─LogSoftmax: 1-11                       [1, 10]                   --\n",
      "==========================================================================================\n",
      "Total params: 107,850\n",
      "Trainable params: 107,850\n",
      "Non-trainable params: 0\n",
      "Total mult-adds (M): 1.17\n",
      "==========================================================================================\n",
      "Input size (MB): 0.00\n",
      "Forward/backward pass size (MB): 0.09\n",
      "Params size (MB): 0.43\n",
      "Estimated Total Size (MB): 0.52\n",
      "==========================================================================================\n"
     ]
    }
   ],
   "source": [
    "view_network_shapes(conv_net, input_shape=(1,1,28,28))"
   ]
  },
  {
   "cell_type": "markdown",
   "id": "0f577403",
   "metadata": {},
   "source": [
    "<b>Exercise 3.1.2</b>: Why is the final layer a log softmax? What is a softmax function? Can we use ReLU instead of softmax? If yes, what would you do different? If not, tell us why. If you think there is a different answer, feel free to use this space to chart it down"
   ]
  },
  {
   "cell_type": "markdown",
   "id": "e530f3e2",
   "metadata": {},
   "source": [
    "We use softmax to produce a probability of distributions as an output, which apart from being a very nice way of expressing discrete outputs, is also the output format required by popular loss functions.\n",
    "\n",
    "ReLU does not have the above properties and is therefore not a good output function. An example illustration is shown in the following cell.\n",
    "\n",
    "In machine learning, when optimization involving probabilities are done, we generally use the log of the probabilities instead of the raw probabilities, as done by the log-softmax function. This has a number of practical advantages:\n",
    "1. Multiplication of probabilities (common in MLE) become addition of log probabilities, which is a operation with significantly lesser time complexity\n",
    "2. Log probabilities are numerically stable. With raw probabilities [0,1] there is a higher chance of precision underflow."
   ]
  },
  {
   "cell_type": "code",
   "execution_count": 19,
   "id": "18973c54",
   "metadata": {},
   "outputs": [
    {
     "data": {
      "text/plain": [
       "Text(0.5, 1.0, 'relu')"
      ]
     },
     "execution_count": 19,
     "metadata": {},
     "output_type": "execute_result"
    },
    {
     "data": {
      "image/png": "[encoded data removed]",
      "text/plain": [
       "<Figure size 720x216 with 2 Axes>"
      ]
     },
     "metadata": {
      "needs_background": "light"
     },
     "output_type": "display_data"
    }
   ],
   "source": [
    "x = torch.arange(-10, 10)\n",
    "ys = F.sigmoid(x)\n",
    "yr = F.relu(x)\n",
    "\n",
    "fig, ax = plt.subplots(1, 2, figsize=(10,3))\n",
    "ax[0].plot(x, ys)\n",
    "ax[0].set_title(\"sigmoid\")\n",
    "ax[1].plot(x, yr)\n",
    "ax[1].set_title(\"relu\")"
   ]
  },
  {
   "cell_type": "markdown",
   "id": "41ea2c8c",
   "metadata": {},
   "source": [
    "<b>Exercise 3.1.3</b>: What is the ratio of number of parameters of Conv-net to number of parameters of FC-Net <br>\n",
    "$\\frac{p_{conv-net}}{p_{fc-net}}$ = Fill your answer <br>\n",
    "Do you see the difference ?! "
   ]
  },
  {
   "cell_type": "markdown",
   "id": "89e291d0",
   "metadata": {},
   "source": [
    "0.0036"
   ]
  },
  {
   "cell_type": "markdown",
   "id": "b4c6329e",
   "metadata": {},
   "source": [
    "<b>Exercise 3.1.4</b>: Now try to add different layers and see how the network parameters vary. Does adding layers reduce the parameters? Does the number of hidden neurons in the layers affect the total trainable parameters? Use the `build_custom_fc_net` function given below. You do not have to understand the working of it. \n",
    "\n",
    "<i>Add a few sentences on your observations while using various architectures</i>"
   ]
  },
  {
   "cell_type": "code",
   "execution_count": 20,
   "id": "b89d76f7",
   "metadata": {
    "scrolled": true
   },
   "outputs": [
    {
     "name": "stdout",
     "output_type": "stream",
     "text": [
      "Model Summary\n",
      "\n",
      "linear_1.weight: 100352 elements\n",
      "linear_1.bias: 128 elements\n",
      "linear_2.weight: 8192 elements\n",
      "linear_2.bias: 64 elements\n",
      "linear_3.weight: 2048 elements\n",
      "linear_3.bias: 32 elements\n",
      "linear_4.weight: 320 elements\n",
      "linear_4.bias: 10 elements\n",
      "\n",
      "Total Trainable Parameters: 111146!\n",
      "Model Summary\n",
      "\n",
      "linear_1.weight: 100352 elements\n",
      "linear_1.bias: 128 elements\n",
      "linear_2.weight: 16384 elements\n",
      "linear_2.bias: 128 elements\n",
      "linear_3.weight: 4096 elements\n",
      "linear_3.bias: 32 elements\n",
      "linear_4.weight: 320 elements\n",
      "linear_4.bias: 10 elements\n",
      "\n",
      "Total Trainable Parameters: 121450!\n",
      "Model Summary\n",
      "\n",
      "linear_1.weight: 100352 elements\n",
      "linear_1.bias: 128 elements\n",
      "linear_2.weight: 8192 elements\n",
      "linear_2.bias: 64 elements\n",
      "linear_3.weight: 4096 elements\n",
      "linear_3.bias: 64 elements\n",
      "linear_4.weight: 2048 elements\n",
      "linear_4.bias: 32 elements\n",
      "linear_5.weight: 320 elements\n",
      "linear_5.bias: 10 elements\n",
      "\n",
      "Total Trainable Parameters: 115306!\n"
     ]
    }
   ],
   "source": [
    "def build_custom_fc_net(inp_dim: int, out_dim: int, hidden_fc_dim: List[int]):\n",
    "    '''\n",
    "    Inputs :\n",
    "    \n",
    "    inp_dim: Shape of the input dimensions (in MNIST case 28*28)\n",
    "    out_dim: Desired classification classes (in MNIST case 10)\n",
    "    hidden_fc_dim: List of the intermediate dimension shapes (list of integers). Try different values and see the shapes'\n",
    "    \n",
    "    Return: nn.Sequential (final custom model)\n",
    "    '''\n",
    "    assert type(hidden_fc_dim) == list, \"Please define hidden_fc_dim as list of integers\"\n",
    "    layers = []\n",
    "    layers.append((f'flatten', nn.Flatten()))\n",
    "    # If no hidden layer is required\n",
    "    if len(hidden_fc_dim) == 0:\n",
    "        layers.append((f'linear',nn.Linear(math.prod(inp_dim),out_dim)))\n",
    "        layers.append((f'activation',nn.LogSoftmax()))\n",
    "    else:\n",
    "        # Loop over hidden dimensions and add layers\n",
    "        for idx, dim in enumerate(hidden_fc_dim):\n",
    "            if idx == 0:\n",
    "                layers.append((f'linear_{idx+1}',nn.Linear(math.prod(inp_dim),dim)))\n",
    "                layers.append((f'activation_{idx+1}',nn.ReLU()))\n",
    "            else:\n",
    "                layers.append((f'linear_{idx+1}',nn.Linear(hidden_fc_dim[idx-1],dim)))\n",
    "                layers.append((f'activation_{idx+1}',nn.ReLU()))\n",
    "        layers.append((f'linear_{idx+2}',nn.Linear(dim,out_dim)))\n",
    "        layers.append((f'activation_{idx+2}',nn.LogSoftmax()))\n",
    "        \n",
    "    model =  nn.Sequential(OrderedDict(layers))\n",
    "    return model\n",
    "\n",
    "# TO-DO build different networks (atleast 3) and see the parameters\n",
    "#(You don't have to understand the function above. It is a generic way to build a FC-Net)\n",
    "\n",
    "\n",
    "fc_net_custom1 = build_custom_fc_net(inp_dim=(1,28,28), out_dim=10, hidden_fc_dim=[128,64,32])\n",
    "view_network_parameters(fc_net_custom1)\n",
    "\n",
    "fc_net_custom2 = build_custom_fc_net(inp_dim=(1,28,28), out_dim=10, hidden_fc_dim=[128,128,32])\n",
    "view_network_parameters(fc_net_custom2)\n",
    "\n",
    "fc_net_custom3 = build_custom_fc_net(inp_dim=(1,28,28), out_dim=10, hidden_fc_dim=[128,64,64,32])\n",
    "view_network_parameters(fc_net_custom3)"
   ]
  },
  {
   "cell_type": "markdown",
   "id": "c8b52026",
   "metadata": {},
   "source": [
    "While both adding layers and adding more parameters result in an increased number of trainable parameters, the comparison between them might vary based on the type of network. \n",
    "\n",
    "But generally for a fixed network, adding parameters can have more dramatic increase in parameters than adding layers. In the example above, I have illustrated this by doubling the 64 unit layer by:\n",
    "1. adding another 64 units to the same layer\n",
    "2. adding another layer with 64 units\n",
    "\n",
    "We see that 1. introduces more trainable parameters."
   ]
  },
  {
   "cell_type": "markdown",
   "id": "71c48647",
   "metadata": {},
   "source": [
    "## Let's train the models to see their performace"
   ]
  },
  {
   "cell_type": "code",
   "execution_count": 21,
   "id": "94ae412d",
   "metadata": {},
   "outputs": [
    {
     "name": "stdout",
     "output_type": "stream",
     "text": [
      "Datatype of the dataset object: <class 'torchvision.datasets.mnist.MNIST'>\n",
      "Number of samples in training data: 60000\n",
      "Number of samples in test data: 10000\n"
     ]
    }
   ],
   "source": [
    "# downloading mnist into folder\n",
    "data_dir = 'data' # make sure that this folder is created in your working dir\n",
    "# transform the PIL images to tensor using torchvision.transform.toTensor method\n",
    "train_data = torchvision.datasets.MNIST(data_dir, train=True, download=True, transform=torchvision.transforms.Compose([torchvision.transforms.ToTensor()]))\n",
    "test_data  = torchvision.datasets.MNIST(data_dir, train=False, download=True, transform=torchvision.transforms.Compose([torchvision.transforms.ToTensor()]))\n",
    "print(f'Datatype of the dataset object: {type(train_data)}')\n",
    "# check the length of dataset\n",
    "n_train_samples = len(train_data)\n",
    "print(f'Number of samples in training data: {len(train_data)}')\n",
    "print(f'Number of samples in test data: {len(test_data)}')\n",
    "# Check the format of dataset\n",
    "#print(f'Foramt of the dataset: \\n {train_data}')\n",
    "\n",
    "val_split = .2\n",
    "batch_size=256 \n",
    "\n",
    "train_data_, val_data = random_split(train_data, [int(n_train_samples*(1-val_split)), int(n_train_samples*val_split)])\n",
    "\n",
    "train_loader = torch.utils.data.DataLoader(train_data_, batch_size=batch_size,shuffle=True)\n",
    "val_loader = torch.utils.data.DataLoader(val_data, batch_size=batch_size,shuffle=True)\n",
    "test_loader = torch.utils.data.DataLoader(test_data, batch_size=batch_size,shuffle=True)"
   ]
  },
  {
   "cell_type": "markdown",
   "id": "0b94c083",
   "metadata": {},
   "source": [
    "### Displaying the loaded dataset"
   ]
  },
  {
   "cell_type": "code",
   "execution_count": 22,
   "id": "a6e15476",
   "metadata": {},
   "outputs": [
    {
     "data": {
      "image/png": "[encoded data removed]",
      "text/plain": [
       "<Figure size 432x288 with 6 Axes>"
      ]
     },
     "metadata": {},
     "output_type": "display_data"
    }
   ],
   "source": [
    "import matplotlib.pyplot as plt\n",
    "\n",
    "fig = plt.figure()\n",
    "for i in range(6):\n",
    "  plt.subplot(2, 3, i+1)\n",
    "  plt.tight_layout()\n",
    "  plt.imshow(train_data[i][0][0], cmap='gray', interpolation='none')\n",
    "  plt.title(\"Class Label: {}\".format(train_data[i][1]))\n",
    "  plt.xticks([])\n",
    "  plt.yticks([])\n"
   ]
  },
  {
   "cell_type": "markdown",
   "id": "524851bc",
   "metadata": {},
   "source": [
    "## Function to train the model"
   ]
  },
  {
   "cell_type": "code",
   "execution_count": 23,
   "id": "718c5a83",
   "metadata": {},
   "outputs": [],
   "source": [
    "def train_model(model, train_loader, device, loss_fn, optimizer, input_dim=(-1,1,28,28)):\n",
    "    model.train()\n",
    "    # Initiate a loss monitor\n",
    "    train_loss = []\n",
    "    # Iterate the dataloader (we do not need the label values, this is unsupervised learning and not supervised classification)\n",
    "    for images, labels in train_loader: # the variable `labels` will be used for customised training\n",
    "        # reshape input\n",
    "        images = torch.reshape(images,input_dim)\n",
    "        images = images.to(device)\n",
    "        labels = labels.to(device)\n",
    "        # predict the class\n",
    "        predicted = model(images)\n",
    "        loss = loss_fn(predicted, labels)\n",
    "        # Backward pass (back propagation)\n",
    "        optimizer.zero_grad()\n",
    "        loss.backward()\n",
    "        optimizer.step()       \n",
    "        wandb.log({\"Training Loss\": loss})\n",
    "        wandb.watch(model)\n",
    "        train_loss.append(loss.detach().cpu().numpy())\n",
    "    return np.mean(train_loss)"
   ]
  },
  {
   "cell_type": "markdown",
   "id": "802d74a4",
   "metadata": {},
   "source": [
    "## Function to test the model"
   ]
  },
  {
   "cell_type": "code",
   "execution_count": 24,
   "id": "9f24a06a",
   "metadata": {},
   "outputs": [],
   "source": [
    "# Testing Function\n",
    "def test_model(model, test_loader, device, loss_fn, input_dim=(-1,1,28,28)):\n",
    "    # Set evaluation mode for encoder and decoder\n",
    "    model.eval()\n",
    "    with torch.no_grad(): # No need to track the gradients\n",
    "        # Define the lists to store the outputs for each batch\n",
    "        predicted = []\n",
    "        actual = []\n",
    "        for images, labels in test_loader:\n",
    "            # reshape input\n",
    "            images = torch.reshape(images,input_dim)\n",
    "            images = images.to(device)\n",
    "            labels = labels.to(device)\n",
    "            ## predict the label\n",
    "            pred = model(images)\n",
    "            # Append the network output and the original image to the lists\n",
    "            predicted.append(pred.cpu())\n",
    "            actual.append(labels.cpu())\n",
    "        # Create a single tensor with all the values in the lists\n",
    "        predicted = torch.cat(predicted)\n",
    "        actual = torch.cat(actual) \n",
    "        # Evaluate global loss\n",
    "        val_loss = loss_fn(predicted, actual)\n",
    "    return val_loss.data"
   ]
  },
  {
   "cell_type": "markdown",
   "id": "bfdd1864",
   "metadata": {},
   "source": [
    "Before we start training let's delete the huge FC-Net we built and build a reasonable FC-Net (You learnt why such larger networks are not reasonable in the previous notebook)"
   ]
  },
  {
   "cell_type": "code",
   "execution_count": 25,
   "id": "51fca7cc",
   "metadata": {},
   "outputs": [],
   "source": [
    "del fc_net, fc_net_custom1, fc_net_custom2, fc_net_custom3\n",
    "torch.cuda.empty_cache()\n",
    "# Building a reasonable fully connected network\n",
    "fc_net = build_custom_fc_net(inp_dim=(1,28,28), out_dim=10, hidden_fc_dim=[128,64,32])"
   ]
  },
  {
   "cell_type": "markdown",
   "id": "6bc501cf",
   "metadata": {},
   "source": [
    "<b>Exercise 3.1.5:</b> \n",
    "Code the `weight_init_xavier` function by referring to https://pytorch.org/docs/stable/nn.init.html. Replace the weight initializations to your own function.\n"
   ]
  },
  {
   "cell_type": "code",
   "execution_count": 26,
   "id": "60636ac1",
   "metadata": {},
   "outputs": [
    {
     "name": "stdout",
     "output_type": "stream",
     "text": [
      "Selected device: cuda\n"
     ]
    }
   ],
   "source": [
    "### Set the random seed for reproducible results\n",
    "torch.manual_seed(0)\n",
    "# Choosing a device based on the env and torch setup\n",
    "device = torch.device(\"cuda\") if torch.cuda.is_available() else torch.device(\"cpu\")\n",
    "print(f'Selected device: {device}')\n",
    "\n",
    "def weight_init_zero(m):\n",
    "    if isinstance(m, nn.Linear) or isinstance(m, nn.Conv2d):\n",
    "        torch.nn.init.constant_(m.weight, 0.0)\n",
    "        m.bias.data.fill_(0.01)\n",
    "\n",
    "def weight_init_xavier(m):\n",
    "    '''\n",
    "    TO-DO: please add code below to add xavier uniform initialization and remove the 'pass'\n",
    "    '''\n",
    "    if isinstance(m, nn.Linear) or isinstance(m, nn.Conv2d):\n",
    "        torch.nn.init.xavier_uniform_(m.weight)\n",
    "        m.bias.data.fill_(0.01)\n",
    "    \n",
    "fc_net.to(device)\n",
    "conv_net.to(device)\n",
    "\n",
    "# Apply the weight initialization\n",
    "fc_net.apply(weight_init_zero)\n",
    "conv_net.apply(weight_init_zero)\n",
    "\n",
    "# Apply the xavier weight initialization\n",
    "#TO-DO: Add your function here\n",
    "fc_net.apply(weight_init_xavier)\n",
    "conv_net.apply(weight_init_xavier)\n",
    "\n",
    "\n",
    "# Take the parameters for optimiser\n",
    "params_to_optimize_fc = [\n",
    "    {'params': fc_net.parameters()}\n",
    "]\n",
    "\n",
    "params_to_optimize_conv = [\n",
    "    {'params': conv_net.parameters()}\n",
    "]\n",
    "### Define the loss function\n",
    "loss_fn = torch.nn.NLLLoss()\n",
    "### Define an optimizer (both for the encoder and the decoder!)\n",
    "lr= 0.001\n",
    "\n",
    "optim_fc = torch.optim.Adam(params_to_optimize_fc, lr=lr, weight_decay=1e-05)\n",
    "optim_conv = torch.optim.Adam(params_to_optimize_conv, lr=lr, weight_decay=1e-05)\n",
    "num_epochs = 30\n",
    "wandb.config = {\n",
    "  \"learning_rate\": lr,\n",
    "  \"epochs\": num_epochs,\n",
    "  \"batch_size\": batch_size\n",
    "}"
   ]
  },
  {
   "cell_type": "markdown",
   "id": "53753ff1",
   "metadata": {},
   "source": [
    "# Training the Convolutional Neural Networks"
   ]
  },
  {
   "cell_type": "code",
   "execution_count": 27,
   "id": "a9616b62",
   "metadata": {
    "scrolled": true
   },
   "outputs": [
    {
     "name": "stdout",
     "output_type": "stream",
     "text": [
      "Conv Net training started\n"
     ]
    },
    {
     "name": "stderr",
     "output_type": "stream",
     "text": [
      "/home/krishnamurthy.sur/.local/lib/python3.9/site-packages/torch/nn/modules/container.py:217: UserWarning: Implicit dimension choice for log_softmax has been deprecated. Change the call to include dim=X as an argument.\n",
      "  input = module(input)\n",
      "/home/krishnamurthy.sur/.local/lib/python3.9/site-packages/torch/nn/modules/container.py:217: UserWarning: Implicit dimension choice for log_softmax has been deprecated. Change the call to include dim=X as an argument.\n",
      "  input = module(input)\n"
     ]
    },
    {
     "name": "stdout",
     "output_type": "stream",
     "text": [
      "Epoch 1/30 : train loss 0.513 \t val loss 0.173\n",
      "Epoch 2/30 : train loss 0.134 \t val loss 0.099\n",
      "Epoch 3/30 : train loss 0.084 \t val loss 0.068\n",
      "Epoch 4/30 : train loss 0.061 \t val loss 0.061\n",
      "Epoch 5/30 : train loss 0.051 \t val loss 0.050\n",
      "Epoch 6/30 : train loss 0.043 \t val loss 0.046\n",
      "Epoch 7/30 : train loss 0.036 \t val loss 0.044\n",
      "Epoch 8/30 : train loss 0.031 \t val loss 0.046\n",
      "Epoch 9/30 : train loss 0.027 \t val loss 0.043\n",
      "Epoch 10/30 : train loss 0.024 \t val loss 0.048\n",
      "Epoch 11/30 : train loss 0.021 \t val loss 0.036\n",
      "Epoch 12/30 : train loss 0.019 \t val loss 0.039\n"
     ]
    },
    {
     "name": "stderr",
     "output_type": "stream",
     "text": [
      "wandb: ERROR Summary data exceeds maximum size of 10.4MB. Dropping it.\n"
     ]
    },
    {
     "name": "stdout",
     "output_type": "stream",
     "text": [
      "Epoch 13/30 : train loss 0.015 \t val loss 0.044\n",
      "Epoch 14/30 : train loss 0.014 \t val loss 0.051\n",
      "Epoch 15/30 : train loss 0.012 \t val loss 0.042\n",
      "Epoch 16/30 : train loss 0.013 \t val loss 0.049\n",
      "Epoch 17/30 : train loss 0.009 \t val loss 0.040\n",
      "Epoch 18/30 : train loss 0.008 \t val loss 0.046\n",
      "Epoch 19/30 : train loss 0.010 \t val loss 0.052\n",
      "Epoch 20/30 : train loss 0.008 \t val loss 0.053\n",
      "Epoch 21/30 : train loss 0.008 \t val loss 0.048\n",
      "Epoch 22/30 : train loss 0.006 \t val loss 0.049\n",
      "Epoch 23/30 : train loss 0.006 \t val loss 0.054\n",
      "Epoch 24/30 : train loss 0.007 \t val loss 0.054\n",
      "Epoch 25/30 : train loss 0.007 \t val loss 0.042\n",
      "Epoch 26/30 : train loss 0.004 \t val loss 0.059\n",
      "Epoch 27/30 : train loss 0.003 \t val loss 0.051\n",
      "Epoch 28/30 : train loss 0.004 \t val loss 0.063\n",
      "Epoch 29/30 : train loss 0.004 \t val loss 0.057\n",
      "Epoch 30/30 : train loss 0.005 \t val loss 0.062\n",
      "Conv Net training done in 682.806 seconds!\n"
     ]
    }
   ],
   "source": [
    "print('Conv Net training started')\n",
    "history_conv = {'train_loss':[],'val_loss':[]}\n",
    "start_time = datetime.datetime.now()\n",
    "\n",
    "for epoch in range(num_epochs):\n",
    "    ### Training \n",
    "    \n",
    "    train_loss = train_model(\n",
    "        model=conv_net,\n",
    "        train_loader=train_loader,\n",
    "        device=device,\n",
    "        loss_fn=loss_fn,\n",
    "        optimizer=optim_conv,\n",
    "        input_dim=(-1,1,28,28))\n",
    "    ### Validation  (use the testing function)\n",
    "    val_loss = test_model(\n",
    "        model=conv_net,\n",
    "        test_loader=test_loader,\n",
    "        device=device,\n",
    "        loss_fn=loss_fn,\n",
    "        input_dim=(-1,1,28,28))\n",
    "    # Print Losses \n",
    "    print(f'Epoch {epoch+1}/{num_epochs} : train loss {train_loss:.3f} \\t val loss {val_loss:.3f}')\n",
    "    history_conv['train_loss'].append(train_loss)\n",
    "    history_conv['val_loss'].append(val_loss)\n",
    "    \n",
    "    \n",
    "print(f'Conv Net training done in {(datetime.datetime.now()-start_time).total_seconds():.3f} seconds!')"
   ]
  },
  {
   "cell_type": "markdown",
   "id": "f1465fbd",
   "metadata": {},
   "source": [
    "### Visualizing Training Progress of Conv Net (Also check out your wandb.ai homepage)"
   ]
  },
  {
   "cell_type": "code",
   "execution_count": 28,
   "id": "c1622763",
   "metadata": {},
   "outputs": [
    {
     "data": {
      "text/plain": [
       "Text(0, 0.5, 'Negative Log Likelihood Loss')"
      ]
     },
     "execution_count": 28,
     "metadata": {},
     "output_type": "execute_result"
    },
    {
     "data": {
      "image/png": "[encoded data removed]",
      "text/plain": [
       "<Figure size 432x288 with 1 Axes>"
      ]
     },
     "metadata": {
      "needs_background": "light"
     },
     "output_type": "display_data"
    }
   ],
   "source": [
    "fig = plt.figure()\n",
    "plt.plot(history_conv['train_loss'], color='blue')\n",
    "plt.plot(history_conv['val_loss'], color='red')\n",
    "plt.legend(['Train Loss', 'Test Loss'], loc='upper right')\n",
    "plt.xlabel('Epochs')\n",
    "plt.ylabel('Negative Log Likelihood Loss')"
   ]
  },
  {
   "cell_type": "markdown",
   "id": "f163e64a",
   "metadata": {},
   "source": [
    "### Visualizing Predictions of Conv Net"
   ]
  },
  {
   "cell_type": "code",
   "execution_count": 29,
   "id": "89ac3520",
   "metadata": {},
   "outputs": [
    {
     "data": {
      "image/png": "[encoded data removed]",
      "text/plain": [
       "<Figure size 360x360 with 9 Axes>"
      ]
     },
     "metadata": {},
     "output_type": "display_data"
    }
   ],
   "source": [
    "examples = enumerate(test_loader)\n",
    "batch_idx, (example_data, example_targets) = next(examples)\n",
    "with torch.no_grad():\n",
    "    example_data = example_data.to(device)\n",
    "    output = conv_net(example_data)\n",
    "example_data = example_data.cpu().detach().numpy()\n",
    "fig = plt.figure(figsize=(5,5))\n",
    "for i in range(9):\n",
    "    plt.subplot(3,3,i+1)\n",
    "    plt.tight_layout()\n",
    "    plt.imshow(example_data[i][0], cmap='gray',interpolation='none')\n",
    "    plt.title(\"Prediction: {}\".format(\n",
    "    output.data.max(1, keepdim=True)[1][i].item()))\n",
    "    plt.xticks([])\n",
    "    plt.yticks([])"
   ]
  },
  {
   "cell_type": "markdown",
   "id": "eacd45fe",
   "metadata": {},
   "source": [
    "# Training the Fully-Connected Neural Networks\n",
    "\n",
    "<b>Exercise 3.1.6:</b> Train the fully connected neural network and analyse it"
   ]
  },
  {
   "cell_type": "code",
   "execution_count": 30,
   "id": "4ee8d12c",
   "metadata": {},
   "outputs": [
    {
     "name": "stdout",
     "output_type": "stream",
     "text": [
      "FC Net training started\n",
      "Epoch 1/30 : train loss 0.520 \t val loss 0.216\n",
      "Epoch 2/30 : train loss 0.183 \t val loss 0.160\n",
      "Epoch 3/30 : train loss 0.129 \t val loss 0.128\n",
      "Epoch 4/30 : train loss 0.102 \t val loss 0.115\n",
      "Epoch 5/30 : train loss 0.082 \t val loss 0.100\n",
      "Epoch 6/30 : train loss 0.068 \t val loss 0.101\n",
      "Epoch 7/30 : train loss 0.055 \t val loss 0.098\n",
      "Epoch 8/30 : train loss 0.047 \t val loss 0.093\n",
      "Epoch 9/30 : train loss 0.040 \t val loss 0.088\n",
      "Epoch 10/30 : train loss 0.034 \t val loss 0.085\n",
      "Epoch 11/30 : train loss 0.027 \t val loss 0.094\n",
      "Epoch 12/30 : train loss 0.023 \t val loss 0.085\n",
      "Epoch 13/30 : train loss 0.021 \t val loss 0.093\n",
      "Epoch 14/30 : train loss 0.016 \t val loss 0.086\n",
      "Epoch 15/30 : train loss 0.013 \t val loss 0.105\n",
      "Epoch 16/30 : train loss 0.015 \t val loss 0.099\n",
      "Epoch 17/30 : train loss 0.012 \t val loss 0.100\n",
      "Epoch 18/30 : train loss 0.008 \t val loss 0.099\n",
      "Epoch 19/30 : train loss 0.008 \t val loss 0.099\n",
      "Epoch 20/30 : train loss 0.005 \t val loss 0.101\n",
      "Epoch 21/30 : train loss 0.004 \t val loss 0.108\n",
      "Epoch 22/30 : train loss 0.008 \t val loss 0.117\n",
      "Epoch 23/30 : train loss 0.015 \t val loss 0.118\n",
      "Epoch 24/30 : train loss 0.009 \t val loss 0.106\n",
      "Epoch 25/30 : train loss 0.006 \t val loss 0.109\n",
      "Epoch 26/30 : train loss 0.009 \t val loss 0.119\n",
      "Epoch 27/30 : train loss 0.007 \t val loss 0.102\n",
      "Epoch 28/30 : train loss 0.005 \t val loss 0.132\n",
      "Epoch 29/30 : train loss 0.006 \t val loss 0.125\n",
      "Epoch 30/30 : train loss 0.013 \t val loss 0.134\n",
      "FC Net training done in 573.883 seconds!\n"
     ]
    }
   ],
   "source": [
    "#TO-DO:Train the fc_net here\n",
    "print('FC Net training started')\n",
    "history_fc = {'train_loss':[],'val_loss':[]}\n",
    "start_time = datetime.datetime.now()\n",
    "\n",
    "for epoch in range(num_epochs):\n",
    "    ### Training     \n",
    "    train_loss = train_model(\n",
    "        model=fc_net,\n",
    "        train_loader=train_loader,\n",
    "        device=device,\n",
    "        loss_fn=loss_fn,\n",
    "        optimizer=optim_fc,\n",
    "        input_dim=(-1,1,28,28))\n",
    "    ### Validation  (use the testing function)\n",
    "    val_loss = test_model(\n",
    "        model=fc_net,\n",
    "        test_loader=test_loader,\n",
    "        device=device,\n",
    "        loss_fn=loss_fn,\n",
    "        input_dim=(-1,1,28,28))\n",
    "    # Print Losses \n",
    "    print(f'Epoch {epoch+1}/{num_epochs} : train loss {train_loss:.3f} \\t val loss {val_loss:.3f}')\n",
    "    history_fc['train_loss'].append(train_loss)\n",
    "    history_fc['val_loss'].append(val_loss)\n",
    "        \n",
    "print(f'FC Net training done in {(datetime.datetime.now()-start_time).total_seconds():.3f} seconds!')"
   ]
  },
  {
   "cell_type": "markdown",
   "id": "b4c5cd18",
   "metadata": {},
   "source": [
    "## Visualizing Training Progress of FC Net (Check out your wandb.ai project webpage)"
   ]
  },
  {
   "cell_type": "code",
   "execution_count": 31,
   "id": "926d5e38",
   "metadata": {},
   "outputs": [
    {
     "data": {
      "text/plain": [
       "Text(0, 0.5, 'Negative Log Likelihood Loss')"
      ]
     },
     "execution_count": 31,
     "metadata": {},
     "output_type": "execute_result"
    },
    {
     "data": {
      "image/png": "[encoded data removed]",
      "text/plain": [
       "<Figure size 432x288 with 1 Axes>"
      ]
     },
     "metadata": {
      "needs_background": "light"
     },
     "output_type": "display_data"
    }
   ],
   "source": [
    "# TODO - Visualize the training progress of fc_net\n",
    "fig = plt.figure()\n",
    "plt.plot(history_fc['train_loss'], color='blue')\n",
    "plt.plot(history_fc['val_loss'], color='red')\n",
    "plt.legend(['Train Loss', 'Test Loss'], loc='upper right')\n",
    "plt.xlabel('Epochs')\n",
    "plt.ylabel('Negative Log Likelihood Loss')"
   ]
  },
  {
   "cell_type": "markdown",
   "id": "107c77be",
   "metadata": {},
   "source": [
    "## Visualizing Predictions of FC Net"
   ]
  },
  {
   "cell_type": "code",
   "execution_count": 32,
   "id": "a6f399e8",
   "metadata": {},
   "outputs": [
    {
     "data": {
      "image/png": "[encoded data removed]",
      "text/plain": [
       "<Figure size 360x360 with 9 Axes>"
      ]
     },
     "metadata": {},
     "output_type": "display_data"
    }
   ],
   "source": [
    "# TODO - Visualise the predictions of fc_net\n",
    "examples = enumerate(test_loader)\n",
    "batch_idx, (example_data, example_targets) = next(examples)\n",
    "with torch.no_grad():\n",
    "    example_data = example_data.to(device)\n",
    "    output = fc_net(example_data)\n",
    "example_data = example_data.cpu().detach().numpy()\n",
    "fig = plt.figure(figsize=(5,5))\n",
    "for i in range(9):\n",
    "    plt.subplot(3,3,i+1)\n",
    "    plt.tight_layout()\n",
    "    plt.imshow(example_data[i][0], cmap='gray',interpolation='none')\n",
    "    plt.title(\"Prediction: {}\".format(\n",
    "    output.data.max(1, keepdim=True)[1][i].item()))\n",
    "    plt.xticks([])\n",
    "    plt.yticks([])"
   ]
  },
  {
   "cell_type": "markdown",
   "id": "b2981154",
   "metadata": {},
   "source": [
    "<b>Exercise 3.1.7</b>: What are the training times for each of the model? Did both the models take similar times? If yes, why? Shouldn't CNN train faster given it's number of weights to train?"
   ]
  },
  {
   "cell_type": "code",
   "execution_count": 33,
   "id": "3528f2d9",
   "metadata": {},
   "outputs": [
    {
     "data": {
      "text/plain": [
       "'\\nWhile it is true that CNNs have fewer parmaters, it is because they share their parameters\\nas they perform their convolution operation across the image.\\n\\nThis convolution operation has a much higher time complexity compared \\nto the matrix multiplication used at each layer in the feed forward network.\\n'"
      ]
     },
     "execution_count": 33,
     "metadata": {},
     "output_type": "execute_result"
    }
   ],
   "source": [
    "#Please type your answer here ...\n",
    "\"\"\"\n",
    "While it is true that CNNs have fewer parmeters, it is because they share their parameters\n",
    "as they perform their convolution operation across the image.\n",
    "\n",
    "This convolution operation has a much higher time complexity compared \n",
    "to the matrix multiplication used at each layer in the feed forward network.\n",
    "\"\"\""
   ]
  },
  {
   "cell_type": "markdown",
   "id": "b33605f1",
   "metadata": {},
   "source": [
    "## Let's see how the models perform under translation"
   ]
  },
  {
   "cell_type": "markdown",
   "id": "7a4d24b6",
   "metadata": {},
   "source": [
    "In principle, one of the advantages of convolutions is that they are equivariant under translation which means that a function composed out of convolutions should invariant under translation.\n",
    "\n",
    "<b>Exercise 3.1.8</b>: In practice, however, we might not see perfect invariance under translation.  What aspect of our network leads to imperfect invariance?"
   ]
  },
  {
   "cell_type": "markdown",
   "id": "889cbdfc",
   "metadata": {},
   "source": [
    "\n",
    "Several reasons can cause the model to perform poorly under translation. \n",
    "1. When translation is manually introduced, the addition of padding elements can cause the network distribution to shift resulting in poor performance\n",
    "2. Sometimes severe translation can cause the object of interest to leave the image frame, resulting in loss of information\n",
    "3. In rare cases the feed forward layers at the end of the network can become a bottleneck for invariance\n",
    "4. Layers like max pooling perform downsampling at the local level which can change how the features look when the image is translated. This can have a minor effect on invariance.  // source: chatgpt\n",
    "5. While CNNs are equivariant, if translation of an image changes its distribution drastically from the training set (probably from poor training data diversity), it can affect the performance of the model.\n"
   ]
  },
  {
   "cell_type": "markdown",
   "id": "b8a0d35b",
   "metadata": {},
   "source": [
    "We will next measure the sensitivity  of the convolutional network to translation in practice, and we will compare it to the fully-connected version. "
   ]
  },
  {
   "cell_type": "code",
   "execution_count": 34,
   "id": "9e8583d7",
   "metadata": {},
   "outputs": [],
   "source": [
    "## function to check accuracies for unit translation\n",
    "def shiftVsAccuracy(model, test_loader, device, loss_fn, shifts = 12, input_dim=(-1,1,28,28)):\n",
    "    # Set evaluation mode for encoder and decoder\n",
    "    accuracies = []\n",
    "    shifted = []\n",
    "    for i in range(-shifts,shifts):\n",
    "        model.eval()\n",
    "        correct = 0\n",
    "        total = 0\n",
    "        with torch.no_grad(): # No need to track the gradients\n",
    "            # Define the lists to store the outputs for each batch\n",
    "            predicted = []\n",
    "            actual = []\n",
    "            for images, labels in test_loader:\n",
    "                # reshape input\n",
    "                images = torch.roll(images,shifts=i, dims=2)\n",
    "                if i == 0:\n",
    "                    pass\n",
    "                elif i > 0:\n",
    "                    images[:,:,:i,:] = 0\n",
    "                else:\n",
    "                    images[:,:,i:,:] = 0\n",
    "                images = torch.reshape(images,input_dim)\n",
    "                images = images.to(device)\n",
    "                labels = labels.to(device)\n",
    "                ## predict the label\n",
    "                pred = model(images)\n",
    "                # Append the network output and the original image to the lists\n",
    "                _ , pred = torch.max(pred.data, 1)\n",
    "                total += labels.size(0)\n",
    "                correct += (pred == labels).sum().item()\n",
    "                predicted.append(pred.cpu())\n",
    "                actual.append(labels.cpu())  \n",
    "            shifted.append(images[0][0].cpu())\n",
    "            acc = 100 * correct // total\n",
    "            accuracies.append(acc)\n",
    "    return accuracies,shifted"
   ]
  },
  {
   "cell_type": "code",
   "execution_count": 35,
   "id": "89576a2d",
   "metadata": {},
   "outputs": [],
   "source": [
    "accuracies,shifted = shiftVsAccuracy(\n",
    "        model=conv_net,\n",
    "        test_loader=test_loader,\n",
    "        device=device,\n",
    "        shifts=12,\n",
    "        loss_fn=loss_fn,\n",
    "        input_dim=(-1,1,28,28))"
   ]
  },
  {
   "cell_type": "code",
   "execution_count": 36,
   "id": "99e2b0c9",
   "metadata": {},
   "outputs": [
    {
     "data": {
      "text/plain": [
       "Text(0.5, 1.0, 'Accuracy Vs Translation')"
      ]
     },
     "execution_count": 36,
     "metadata": {},
     "output_type": "execute_result"
    },
    {
     "data": {
      "image/png": "[encoded data removed]",
      "text/plain": [
       "<Figure size 432x288 with 1 Axes>"
      ]
     },
     "metadata": {
      "needs_background": "light"
     },
     "output_type": "display_data"
    }
   ],
   "source": [
    "shifts = np.arange(-12,12)\n",
    "plt.plot(shifts,accuracies)\n",
    "plt.title('Accuracy Vs Translation')"
   ]
  },
  {
   "cell_type": "code",
   "execution_count": 37,
   "id": "b2320b45",
   "metadata": {},
   "outputs": [
    {
     "data": {
      "image/png": "[encoded data removed]",
      "text/plain": [
       "<Figure size 1440x1440 with 24 Axes>"
      ]
     },
     "metadata": {},
     "output_type": "display_data"
    }
   ],
   "source": [
    "fig = plt.figure(figsize=(20,20))\n",
    "plt_num = 0\n",
    "for i in range(-12,12):\n",
    "    plt.subplot(5,6,plt_num+1)\n",
    "    plt.imshow(shifted[plt_num], cmap='gray',interpolation='none')\n",
    "    plt.title(f\"Shifted: {i} Accuracy: {accuracies[plt_num]}\")\n",
    "    plt.xticks([])\n",
    "    plt.yticks([])\n",
    "    plt_num+=1"
   ]
  },
  {
   "cell_type": "markdown",
   "id": "6b217e71",
   "metadata": {},
   "source": [
    "<b>Exercise 3.1.8:</b>\n",
    "Do the same for FC-Net and plot the accuracies. Is the rate of accuracy degradation same as Conv-Net? Can you justify why this happened? <br>\n",
    "Clue: You might want to look at the way convolution layers process information"
   ]
  },
  {
   "cell_type": "code",
   "execution_count": 38,
   "id": "80b4cf9a",
   "metadata": {},
   "outputs": [
    {
     "name": "stderr",
     "output_type": "stream",
     "text": [
      "/home/krishnamurthy.sur/.local/lib/python3.9/site-packages/torch/nn/modules/container.py:217: UserWarning: Implicit dimension choice for log_softmax has been deprecated. Change the call to include dim=X as an argument.\n",
      "  input = module(input)\n"
     ]
    }
   ],
   "source": [
    "# To-DO Write your code below\n",
    "accuracies,shifted = shiftVsAccuracy(\n",
    "        model=fc_net,\n",
    "        test_loader=test_loader,\n",
    "        device=device,\n",
    "        shifts=12,\n",
    "        loss_fn=loss_fn,\n",
    "        input_dim=(-1,1,28,28))"
   ]
  },
  {
   "cell_type": "code",
   "execution_count": 39,
   "id": "b4ce177e",
   "metadata": {},
   "outputs": [
    {
     "data": {
      "text/plain": [
       "Text(0.5, 1.0, 'Accuracy Vs Translation')"
      ]
     },
     "execution_count": 39,
     "metadata": {},
     "output_type": "execute_result"
    },
    {
     "data": {
      "image/png": "[encoded data removed]",
      "text/plain": [
       "<Figure size 432x288 with 1 Axes>"
      ]
     },
     "metadata": {
      "needs_background": "light"
     },
     "output_type": "display_data"
    }
   ],
   "source": [
    "shifts = np.arange(-12,12)\n",
    "plt.plot(shifts,accuracies)\n",
    "plt.title('Accuracy Vs Translation')"
   ]
  },
  {
   "cell_type": "code",
   "execution_count": 40,
   "id": "dfc416dc",
   "metadata": {},
   "outputs": [
    {
     "data": {
      "image/png": "[encoded data removed]",
      "text/plain": [
       "<Figure size 1440x1440 with 24 Axes>"
      ]
     },
     "metadata": {},
     "output_type": "display_data"
    }
   ],
   "source": [
    "fig = plt.figure(figsize=(20,20))\n",
    "plt_num = 0\n",
    "for i in range(-12,12):\n",
    "    plt.subplot(5,6,plt_num+1)\n",
    "    plt.imshow(shifted[plt_num], cmap='gray',interpolation='none')\n",
    "    plt.title(f\"Shifted: {i} Accuracy: {accuracies[plt_num]}\")\n",
    "    plt.xticks([])\n",
    "    plt.yticks([])\n",
    "    plt_num+=1"
   ]
  },
  {
   "cell_type": "markdown",
   "id": "f1bf6ec7",
   "metadata": {},
   "source": [
    "The drop in accuracy is slightly sharper in the feed-forward layers, compared to CNN which is a little gradual. \n",
    "\n",
    "The convolution operation that obtains the cross correlation of features by convolving over the input image makes it translation invariant. \n",
    "\n",
    "However, feed-forward networks look for certain features in specific spatial positions which is often impractical for images.\n",
    "\n",
    "However, with the important features of the image being cut off from the image after severe translation the network's performance will begin to fall, which can be observed above.\n",
    "\n",
    "I also hypothesize that the sharper drop for shifting down compared to shifting up in FCN is because of the fact that many of the useful features of digits are present in the lower half of the image, which the FCN model is explicitly looking for."
   ]
  }
 ],
 "metadata": {
  "kernelspec": {
   "display_name": "Python 3 (ipykernel)",
   "language": "python",
   "name": "python3"
  },
  "language_info": {
   "codemirror_mode": {
    "name": "ipython",
    "version": 3
   },
   "file_extension": ".py",
   "mimetype": "text/x-python",
   "name": "python",
   "nbconvert_exporter": "python",
   "pygments_lexer": "ipython3",
   "version": "3.9.12"
  }
 },
 "nbformat": 4,
 "nbformat_minor": 5
}
